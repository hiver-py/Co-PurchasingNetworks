{
 "cells": [
  {
   "cell_type": "code",
   "execution_count": 1,
   "id": "04a0a58d",
   "metadata": {},
   "outputs": [],
   "source": [
    "import os\n",
    "\n",
    "from pyspark import *\n",
    "from pyspark.sql import *\n",
    "from graphframes import *\n",
    "from pyspark import SparkContext, SparkConf\n",
    "\n",
    "import findspark\n",
    "findspark.init()"
   ]
  },
  {
   "cell_type": "code",
   "execution_count": 2,
   "id": "d3205d22",
   "metadata": {},
   "outputs": [],
   "source": [
    "# https://graphframes.github.io/graphframes/docs/_site/quick-start.html\n",
    "# https://stackoverflow.com/questions/65011599/how-to-start-graphframes-on-spark-on-pyspark-on-juypter-on-docker\n",
    "os.environ['PYSPARK_SUBMIT_ARGS'] = '--packages graphframes:graphframes:0.8.1-spark3.0-s_2.12 pyspark-shell'"
   ]
  },
  {
   "cell_type": "code",
   "execution_count": 3,
   "id": "54f1eb70",
   "metadata": {},
   "outputs": [],
   "source": [
    "# Resources:\n",
    "# https://www.infoq.com/articles/apache-spark-graphx/\n",
    "# https://databricks.com/blog/2016/03/16/on-time-flight-performance-with-graphframes-for-apache-spark.html\n",
    "# https://kukuruku.co/post/social-network-analysis-spark-graphx/\n",
    "# https://lamastex.github.io/scalable-data-science/db/week8/15_GraphX/026_GraphFramesUserGuide.html\n",
    "# https://graphframes.github.io/graphframes/docs/_site/index.html"
   ]
  },
  {
   "cell_type": "code",
   "execution_count": 4,
   "id": "b4217cea",
   "metadata": {},
   "outputs": [],
   "source": [
    "sc = SparkContext.getOrCreate(SparkConf().setMaster(\"local[*]\"))\n",
    "spark = SparkSession(sc)"
   ]
  },
  {
   "cell_type": "code",
   "execution_count": 5,
   "id": "c4216741",
   "metadata": {},
   "outputs": [],
   "source": [
    "edges = spark.read.format(\"csv\").option(\"header\", \"true\").option(\"delimiter\", \"\\t\").load(\"Amazon0302.txt\")\n",
    "vertices = spark.read.format(\"csv\").option(\"header\", \"true\").option(\"delimiter\", \"\\t\").load(\"VertexTable.txt\")\n"
   ]
  },
  {
   "cell_type": "code",
   "execution_count": 6,
   "id": "82bbf76e",
   "metadata": {},
   "outputs": [],
   "source": [
    "edges = edges.withColumnRenamed(\"FromNodeId\", \"src\").withColumnRenamed(\"ToNodeId\", \"dst\")\n"
   ]
  },
  {
   "cell_type": "code",
   "execution_count": 7,
   "id": "4e2195cb",
   "metadata": {},
   "outputs": [],
   "source": [
    "g = GraphFrame(vertices, edges)\n",
    "g = g.dropIsolatedVertices()"
   ]
  },
  {
   "cell_type": "code",
   "execution_count": 9,
   "id": "33cb0531",
   "metadata": {},
   "outputs": [
    {
     "name": "stdout",
     "output_type": "stream",
     "text": [
      "+----+------+\n",
      "|  id|degree|\n",
      "+----+------+\n",
      "| 296|     8|\n",
      "| 467|    17|\n",
      "| 675|     8|\n",
      "| 691|    12|\n",
      "|1159|    12|\n",
      "| 829|    11|\n",
      "|1090|    31|\n",
      "|1436|   128|\n",
      "|1512|     7|\n",
      "|1572|    10|\n",
      "|3414|    13|\n",
      "|5925|    12|\n",
      "|4032|     7|\n",
      "|2069|    13|\n",
      "|2088|    16|\n",
      "|5325|     8|\n",
      "|2136|     8|\n",
      "|2162|     6|\n",
      "|2294|     6|\n",
      "|3210|    13|\n",
      "+----+------+\n",
      "only showing top 20 rows\n",
      "\n",
      "+----+--------+\n",
      "|  id|inDegree|\n",
      "+----+--------+\n",
      "| 296|       3|\n",
      "| 467|      12|\n",
      "| 675|       3|\n",
      "| 691|       7|\n",
      "|1159|       7|\n",
      "| 829|       6|\n",
      "|1090|      26|\n",
      "|1436|     123|\n",
      "|1512|       2|\n",
      "|1572|       5|\n",
      "|3414|       8|\n",
      "|5925|       7|\n",
      "|4032|       2|\n",
      "|2069|       8|\n",
      "|2088|      11|\n",
      "|5325|       3|\n",
      "|2136|       3|\n",
      "|2162|       1|\n",
      "|2294|       1|\n",
      "|3210|       8|\n",
      "+----+--------+\n",
      "only showing top 20 rows\n",
      "\n",
      "+----+---------+\n",
      "|  id|outDegree|\n",
      "+----+---------+\n",
      "| 296|        5|\n",
      "| 467|        5|\n",
      "| 675|        5|\n",
      "| 691|        5|\n",
      "| 829|        5|\n",
      "|1090|        5|\n",
      "|1159|        5|\n",
      "|1436|        5|\n",
      "|1512|        5|\n",
      "|1572|        5|\n",
      "|2069|        5|\n",
      "|2088|        5|\n",
      "|2136|        5|\n",
      "|2162|        5|\n",
      "|2294|        5|\n",
      "|2904|        5|\n",
      "|3210|        5|\n",
      "|3414|        5|\n",
      "|3606|        5|\n",
      "|3959|        5|\n",
      "+----+---------+\n",
      "only showing top 20 rows\n",
      "\n"
     ]
    }
   ],
   "source": [
    "g.degrees.orderBy(\"degree\", ascending=False).show(10)\n",
    "g.inDegrees.orderBy(\"inDegree\", ascending=False).show(10)\n",
    "g.outDegrees.orderBy(\"outDegree\", ascending=False).show(10)"
   ]
  },
  {
   "cell_type": "code",
   "execution_count": 10,
   "id": "66a15e9a",
   "metadata": {},
   "outputs": [
    {
     "data": {
      "text/plain": [
       "DataFrame[id: string, Node: string, pagerank: double]"
      ]
     },
     "metadata": {},
     "output_type": "display_data"
    }
   ],
   "source": [
    "# TAKES LONG TIME TO RUN (10~ min)\n",
    "\n",
    "# PageRank: Identify important vertices in a graph\n",
    "results = g.pageRank(resetProbability=0.15, maxIter=7)\n",
    "\n",
    "display(results.vertices)"
   ]
  },
  {
   "cell_type": "code",
   "execution_count": 11,
   "id": "4e7b33c2",
   "metadata": {},
   "outputs": [
    {
     "name": "stdout",
     "output_type": "stream",
     "text": [
      "+----+----+------------------+\n",
      "|  id|Node|          pagerank|\n",
      "+----+----+------------------+\n",
      "|  33|  33| 289.1769754287916|\n",
      "|  93|  93|254.58423276212014|\n",
      "|   8|   8|208.60205771770336|\n",
      "|  94|  94|200.44458731669394|\n",
      "|2501|2501|198.02802125059114|\n",
      "|4429|4429| 197.0437760883016|\n",
      "| 151| 151|177.72974262730605|\n",
      "|  56|  56| 175.4416985920772|\n",
      "|  95|  95|173.33553169887944|\n",
      "|2353|2353| 156.9996013893304|\n",
      "| 429| 429|131.01514049873109|\n",
      "|9106|9106| 129.8201823262895|\n",
      "|  23|  23|124.88627037006144|\n",
      "|1241|1241|124.12171913289434|\n",
      "| 481| 481|120.03564499078678|\n",
      "|3589|3589|112.05056148336236|\n",
      "| 449| 449|110.16591461904625|\n",
      "|  21|  21| 98.71169308257939|\n",
      "|5120|5120| 97.27020021314428|\n",
      "|8458|8458| 93.26086201683259|\n",
      "+----+----+------------------+\n",
      "only showing top 20 rows\n",
      "\n"
     ]
    }
   ],
   "source": [
    "results.vertices.orderBy(\"pagerank\", ascending=False).show()"
   ]
  },
  {
   "cell_type": "code",
   "execution_count": 13,
   "id": "beae9621",
   "metadata": {},
   "outputs": [
    {
     "name": "stdout",
     "output_type": "stream",
     "text": [
      "+-----+--------+\n",
      "|   id|inDegree|\n",
      "+-----+--------+\n",
      "|14949|     420|\n",
      "| 4429|     404|\n",
      "|   33|     361|\n",
      "|10519|     334|\n",
      "|12771|     330|\n",
      "+-----+--------+\n",
      "only showing top 5 rows\n",
      "\n"
     ]
    }
   ],
   "source": [
    "inDeg = g.inDegrees\n",
    "\n",
    "inDeg.orderBy(\"inDegree\", ascending=False).show(5)"
   ]
  },
  {
   "cell_type": "code",
   "execution_count": 14,
   "id": "81f89573",
   "metadata": {},
   "outputs": [
    {
     "name": "stdout",
     "output_type": "stream",
     "text": [
      "+-----+-----------+\n",
      "|id   |degreeRatio|\n",
      "+-----+-----------+\n",
      "|14949|84.0       |\n",
      "|4429 |80.8       |\n",
      "|33   |72.2       |\n",
      "|10519|66.8       |\n",
      "|12771|66.0       |\n",
      "|8    |58.6       |\n",
      "|481  |55.0       |\n",
      "|3910 |55.0       |\n",
      "|5737 |54.4       |\n",
      "|9106 |45.4       |\n",
      "+-----+-----------+\n",
      "only showing top 10 rows\n",
      "\n",
      "+------+-----------+\n",
      "|id    |degreeRatio|\n",
      "+------+-----------+\n",
      "|112099|0.2        |\n",
      "|117755|0.2        |\n",
      "|126576|0.2        |\n",
      "|118599|0.2        |\n",
      "|101617|0.2        |\n",
      "|111687|0.2        |\n",
      "|106226|0.2        |\n",
      "|109996|0.2        |\n",
      "|121626|0.2        |\n",
      "|113376|0.2        |\n",
      "+------+-----------+\n",
      "only showing top 10 rows\n",
      "\n"
     ]
    }
   ],
   "source": [
    "# Ratio between in and out degrees\n",
    "# A higher ratio value will tell us where many purchases end (but rarely begin)\n",
    "# A lower value tells us where purchases often begin (but infrequently end)\n",
    "from pyspark.sql.functions import desc\n",
    "outDeg = g.outDegrees\n",
    "degreeRatio = inDeg.join(outDeg, \"id\").selectExpr(\"id\", \"double(inDegree)/double(outDegree) as degreeRatio\")\n",
    "degreeRatio.orderBy(desc(\"degreeRatio\")).show(10, False)\n",
    "degreeRatio.orderBy(\"degreeRatio\").show(10, False)"
   ]
  },
  {
   "cell_type": "code",
   "execution_count": 15,
   "id": "71618b38",
   "metadata": {},
   "outputs": [
    {
     "name": "stdout",
     "output_type": "stream",
     "text": [
      "+-----+-----------+\n",
      "|id   |degreeRatio|\n",
      "+-----+-----------+\n",
      "|14949|84.0       |\n",
      "|4429 |80.8       |\n",
      "|33   |72.2       |\n",
      "|10519|66.8       |\n",
      "|12771|66.0       |\n",
      "|8    |58.6       |\n",
      "|3910 |55.0       |\n",
      "|481  |55.0       |\n",
      "|5737 |54.4       |\n",
      "|9106 |45.4       |\n",
      "+-----+-----------+\n",
      "only showing top 10 rows\n",
      "\n",
      "+------+-----------+\n",
      "|id    |degreeRatio|\n",
      "+------+-----------+\n",
      "|112115|0.2        |\n",
      "|120824|0.2        |\n",
      "|113568|0.2        |\n",
      "|100776|0.2        |\n",
      "|113888|0.2        |\n",
      "|104758|0.2        |\n",
      "|113925|0.2        |\n",
      "|107162|0.2        |\n",
      "|114143|0.2        |\n",
      "|108272|0.2        |\n",
      "+------+-----------+\n",
      "only showing top 10 rows\n",
      "\n"
     ]
    }
   ],
   "source": [
    "outDeg = g.outDegrees\n",
    "degreeRatio = inDeg.join(outDeg, \"id\").selectExpr(\"id\", \"double(inDegree)/double(outDegree) as degreeRatio\")\n",
    "degreeRatio.orderBy(desc(\"degreeRatio\")).show(10, False)\n",
    "degreeRatio.orderBy(\"degreeRatio\").show(10, False)"
   ]
  },
  {
   "cell_type": "code",
   "execution_count": 8,
   "id": "05371c50",
   "metadata": {},
   "outputs": [
    {
     "name": "stdout",
     "output_type": "stream",
     "text": [
      "+------+------+-------------+\n",
      "|id    |Node  |label        |\n",
      "+------+------+-------------+\n",
      "|103368|103368|369367188488 |\n",
      "|103634|103634|257698038957 |\n",
      "|186264|186264|240518168944 |\n",
      "|32558 |32558 |1039382086565|\n",
      "|11205 |11205 |532575944770 |\n",
      "|171612|171612|1288490189195|\n",
      "|210437|210437|8589935171   |\n",
      "|212043|212043|360777253465 |\n",
      "|232913|232913|120259085016 |\n",
      "|235045|235045|541165880069 |\n",
      "+------+------+-------------+\n",
      "only showing top 10 rows\n",
      "\n"
     ]
    }
   ],
   "source": [
    "#https://github-wiki-see.page/m/MonkeyCanCode/CS5590_Spark/wiki/ICP13\n",
    "# Run static Label Propagation Algorithm for detecting communities in networks.\n",
    "# Each node in the network is initially assigned to its own community. \n",
    "# At every superstep, nodes send their community affiliation to all neighbors and \n",
    "# update their state to the mode community affiliation of incoming messages.\n",
    "# https://en.wikipedia.org/wiki/Label_propagation_algorithm\n",
    "#LPA is a standard community detection algorithm for graphs. \n",
    "#It is very inexpensive computationally, although (1) convergence is not guaranteed and \n",
    "#(2) one can end up with trivial solutions (all nodes are identified into a single community).\n",
    "communities = g.labelPropagation(maxIter=5)\n",
    "communities.persist().show(10, False)"
   ]
  },
  {
   "cell_type": "code",
   "execution_count": 9,
   "id": "5481507f",
   "metadata": {},
   "outputs": [
    {
     "name": "stdout",
     "output_type": "stream",
     "text": [
      "+------+-------------+\n",
      "|    id|        label|\n",
      "+------+-------------+\n",
      "|103368| 369367188488|\n",
      "|103634| 257698038957|\n",
      "|186264| 240518168944|\n",
      "| 32558|1039382086565|\n",
      "| 11205| 532575944770|\n",
      "|171612|1288490189195|\n",
      "|210437|   8589935171|\n",
      "|212043| 360777253465|\n",
      "|232913| 120259085016|\n",
      "|235045| 541165880069|\n",
      "| 81342|   8589935768|\n",
      "| 82141| 188978562174|\n",
      "|152121| 901943132412|\n",
      "|208781| 446676599571|\n",
      "| 47069| 936302870826|\n",
      "| 73953| 240518169355|\n",
      "|209191|1099511628402|\n",
      "| 65039|  25769804925|\n",
      "|104793|1030792152198|\n",
      "|197235|1520418424093|\n",
      "+------+-------------+\n",
      "only showing top 20 rows\n",
      "\n"
     ]
    }
   ],
   "source": [
    "communities.select(\"id\", \"label\").show()"
   ]
  },
  {
   "cell_type": "code",
   "execution_count": 16,
   "id": "5b19e44c",
   "metadata": {},
   "outputs": [
    {
     "name": "stdout",
     "output_type": "stream",
     "text": [
      "+-------------+-----+\n",
      "|label        |count|\n",
      "+-------------+-----+\n",
      "|1434519077722|278  |\n",
      "|1494648620190|242  |\n",
      "|1005022348562|197  |\n",
      "|1331439862758|174  |\n",
      "|128849019923 |165  |\n",
      "|335007450316 |161  |\n",
      "|352187318500 |158  |\n",
      "|326417515741 |149  |\n",
      "|1305670059036|135  |\n",
      "|1443109012342|131  |\n",
      "|68719477440  |125  |\n",
      "|1606317769977|119  |\n",
      "|1640677508178|118  |\n",
      "|266287972517 |117  |\n",
      "|1374389536000|115  |\n",
      "|1219770712525|112  |\n",
      "|1537598293221|111  |\n",
      "|1065151890509|103  |\n",
      "|1056561955933|100  |\n",
      "|1030792151054|100  |\n",
      "|515396076756 |99   |\n",
      "|627065225252 |99   |\n",
      "|1382979470271|98   |\n",
      "|1623497638797|96   |\n",
      "|472446403630 |94   |\n",
      "|515396076031 |93   |\n",
      "|1340029797568|90   |\n",
      "|1434519077926|87   |\n",
      "|1331439861899|87   |\n",
      "|360777253917 |86   |\n",
      "|472446403673 |83   |\n",
      "|1245540516937|82   |\n",
      "|25769804988  |77   |\n",
      "|335007449928 |77   |\n",
      "|1374389535013|75   |\n",
      "|1632087573650|74   |\n",
      "|1305670059250|73   |\n",
      "|1185410974849|71   |\n",
      "|927712936039 |71   |\n",
      "|1271310320137|71   |\n",
      "|403726927105 |70   |\n",
      "|420906796105 |69   |\n",
      "|283467841551 |68   |\n",
      "|1477468750911|67   |\n",
      "|231928234699 |66   |\n",
      "|592705486865 |65   |\n",
      "|773094114178 |65   |\n",
      "|343597384370 |65   |\n",
      "|231928234867 |65   |\n",
      "|506806141992 |65   |\n",
      "|1709396983859|65   |\n",
      "|1116691497925|65   |\n",
      "|1314259993821|65   |\n",
      "|1666447310929|64   |\n",
      "|618475291694 |64   |\n",
      "|609885357031 |63   |\n",
      "|1348619732043|63   |\n",
      "|1030792152212|60   |\n",
      "|1692217115742|59   |\n",
      "|266287973502 |58   |\n",
      "|274877907089 |58   |\n",
      "|1288490189849|57   |\n",
      "|120259085014 |57   |\n",
      "|1606317769641|56   |\n",
      "|1194000908776|56   |\n",
      "|446676600089 |55   |\n",
      "|1546188227594|55   |\n",
      "|137438954750 |55   |\n",
      "|515396076366 |55   |\n",
      "|343597384742 |55   |\n",
      "|584115553400 |54   |\n",
      "|584115553432 |54   |\n",
      "|1194000909313|53   |\n",
      "|25769804788  |53   |\n",
      "|1185410975050|52   |\n",
      "|1571958031395|52   |\n",
      "|996432413940 |52   |\n",
      "|128849018957 |51   |\n",
      "|188978561121 |51   |\n",
      "|1649267442748|50   |\n",
      "|884763263810 |50   |\n",
      "|867583394119 |50   |\n",
      "|34359738470  |50   |\n",
      "|1520418424124|50   |\n",
      "|412316861527 |50   |\n",
      "|678604833737 |50   |\n",
      "|1554778162215|49   |\n",
      "|300647710975 |49   |\n",
      "|1408749274304|49   |\n",
      "|1503238554643|48   |\n",
      "|704374637464 |48   |\n",
      "|1279900255479|48   |\n",
      "|1202590843310|48   |\n",
      "|790273983522 |48   |\n",
      "|541165879424 |47   |\n",
      "|816043787167 |47   |\n",
      "|592705487756 |47   |\n",
      "|197568496690 |47   |\n",
      "|1271310320176|47   |\n",
      "|1683627180976|46   |\n",
      "+-------------+-----+\n",
      "only showing top 100 rows\n",
      "\n"
     ]
    }
   ],
   "source": [
    "# Creates a new dataframe containing labels and how many nodes are in the specific labels\n",
    "from pyspark.sql.functions import desc, col\n",
    "CommunityCount = communities.groupBy(col(\"label\")).count()\n",
    "CommunityCount.orderBy(desc(\"count\")).show(100, False)"
   ]
  },
  {
   "cell_type": "code",
   "execution_count": 17,
   "id": "d5c989e8",
   "metadata": {},
   "outputs": [
    {
     "name": "stdout",
     "output_type": "stream",
     "text": [
      "+------+------+-------------+\n",
      "|    id|  Node|        label|\n",
      "+------+------+-------------+\n",
      "| 55639| 55639|1434519077722|\n",
      "|   241|   241|1434519077722|\n",
      "|245357|245357|1434519077722|\n",
      "|188556|188556|1434519077722|\n",
      "|   486|   486|1434519077722|\n",
      "| 29253| 29253|1434519077722|\n",
      "|207494|207494|1434519077722|\n",
      "|188857|188857|1434519077722|\n",
      "|219267|219267|1434519077722|\n",
      "|196911|196911|1434519077722|\n",
      "|   250|   250|1434519077722|\n",
      "|233496|233496|1434519077722|\n",
      "|  1676|  1676|1434519077722|\n",
      "| 34399| 34399|1434519077722|\n",
      "| 32664| 32664|1434519077722|\n",
      "| 53712| 53712|1434519077722|\n",
      "|240786|240786|1434519077722|\n",
      "|157591|157591|1434519077722|\n",
      "| 15523| 15523|1434519077722|\n",
      "| 13515| 13515|1434519077722|\n",
      "+------+------+-------------+\n",
      "only showing top 20 rows\n",
      "\n"
     ]
    }
   ],
   "source": [
    "# Look at which nodes are in the largest community\n",
    "# We can maybe use this to try and describe the community later in the report? \n",
    "communities.filter(communities.label == 1434519077722).show()"
   ]
  },
  {
   "cell_type": "code",
   "execution_count": null,
   "id": "8b5470ef",
   "metadata": {},
   "outputs": [],
   "source": []
  }
 ],
 "metadata": {
  "kernelspec": {
   "display_name": "Python 3",
   "language": "python",
   "name": "python3"
  },
  "language_info": {
   "codemirror_mode": {
    "name": "ipython",
    "version": 3
   },
   "file_extension": ".py",
   "mimetype": "text/x-python",
   "name": "python",
   "nbconvert_exporter": "python",
   "pygments_lexer": "ipython3",
   "version": "3.8.7"
  }
 },
 "nbformat": 4,
 "nbformat_minor": 5
}
